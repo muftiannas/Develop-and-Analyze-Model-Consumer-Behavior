{
 "cells": [
  {
   "cell_type": "markdown",
   "metadata": {},
   "source": [
    "<div style=\"border:solid black 2px; padding: 20px\"><h1 style=\"color:black; margin-bottom:20px\">Reviewer's comment v1</h1>\n",
    "Halo Mufti !\n",
    "\n",
    "Perkenalkan saya Dipta, disini saya akan mereview tugas Mufti ya.\n",
    "\n",
    "Saya akan memberikan beberapa komen seperti dibawah ini, tolong jangan dipindah, dirubah, maupun dihapus ya.\n",
    "\n",
    "Komen yang saya berikan akan muncul dalam warna hijau, kuning, atau pun merah seperti ini:\n",
    "\n",
    "<div class=\"alert alert-success\">\n",
    "<b>Adipta's comment v.1</b> <a class=\"tocSkip\"></a>\n",
    "\n",
    "Bagus, semua berjalan lancar.\n",
    "\n",
    "</div>\n",
    "\n",
    "<div class=\"alert alert-warning\">\n",
    "<b>Adipta's comment v.1</b> <a class=\"tocSkip\"></a>\n",
    "\n",
    "Terdapat beberapa catatan.\n",
    "\n",
    "</div>\n",
    "\n",
    "<div class=\"alert alert-danger\">\n",
    "<b>Adipta's comment v.1</b> <a class=\"tocSkip\"></a>\n",
    "\n",
    "Perlu beberapa perbaikan\n",
    "\n",
    "</div>\n",
    "\n",
    "Dan tentu saja Mufti dapat menjawab saya dengan menggunakan ini\n",
    "\n",
    "<div class=\"alert alert-block alert-info\">\n",
    "<b>Student answer.</b> <a class=\"tocSkip\"></a>\n",
    "    \n",
    "Baik kak\n",
    "</div>"
   ]
  },
  {
   "cell_type": "markdown",
   "metadata": {},
   "source": [
    "# Konten <a id='back'></a>\n",
    "\n",
    "* [Pendahuluan](#Pendahuluan)\n",
    "* [Langkah 1 : Membaca Data dan Informasi Umum](#langkah1)\n",
    "* [Langkah 2 : Split Data Source](#langkah2)\n",
    "* [Langkah 3 : Periksa Kualitas Model yang Berbeda](#langkah3)\n",
    "* [Langkah 4 : Periksa kualitas model dengan menggunakan test set](#langkah4)\n",
    "* [Langkah 5 : Sanity Check terhadap model](#langkah5)\n",
    "* [Kesimpulan Umum](#kesimpulan_umum)\n",
    "</a>"
   ]
  },
  {
   "cell_type": "markdown",
   "metadata": {},
   "source": [
    "# Pendahuluan <a id='Pendahuluan'></a>\n",
    "\n",
    "Operator seluler Megaline merasa tidak puas karena banyak pelanggan mereka yang masih menggunakan paket lama. Perusahaan tersebut ingin mengembangkan sebuah model yang dapat menganalisis perilaku konsumen dan merekomendasikan salah satu dari kedua paket terbaru Megaline: Smart atau Ultra.\n",
    "\n",
    "Anda memiliki akses terhadap data perilaku para pelanggan yang sudah beralih ke paket terbaru (dari proyek kursus Analisis Data Statistik). Dalam tugas klasifikasi ini, Anda perlu mengembangkan sebuah model yang mampu memilih paket dengan tepat. Mengingat Anda telah menyelesaikan langkah pra-pemrosesan data, Anda bisa langsung menuju ke tahap pembuatan model.\n",
    "Kembangkanlah sebuah model yang memiliki accuracy setinggi mungkin. Pada proyek ini, ambang batas untuk tingkat accuracy-nya adalah 0,75. Periksalah metrik accuracy model Anda dengan menggunakan test dataset."
   ]
  },
  {
   "cell_type": "markdown",
   "metadata": {},
   "source": [
    "<div class=\"alert alert-success\">\n",
    "<b>Adipta's comment v.1</b> <a class=\"tocSkip\"></a>\n",
    "\n",
    "Bagus, semua berjalan lancar.\n",
    "\n",
    "</div>"
   ]
  },
  {
   "cell_type": "markdown",
   "metadata": {},
   "source": [
    "# Langkah 1 : Membaca Data dan Informasi Umum <a id='langkah1'></a>"
   ]
  },
  {
   "cell_type": "code",
   "execution_count": 17,
   "metadata": {},
   "outputs": [],
   "source": [
    "#Mengimport library\n",
    "import pandas as pd\n",
    "import numpy as np\n",
    "import matplotlib.pyplot as plt\n",
    "\n",
    "from sklearn.model_selection import train_test_split\n",
    "from sklearn.tree import DecisionTreeClassifier\n",
    "from sklearn.ensemble import RandomForestClassifier\n",
    "from sklearn.linear_model import LogisticRegression\n",
    "from sklearn.metrics import accuracy_score\n",
    "\n",
    "from sklearn.metrics import classification_report"
   ]
  },
  {
   "cell_type": "code",
   "execution_count": 18,
   "metadata": {},
   "outputs": [],
   "source": [
    "#Membaca Data\n",
    "df = pd.read_csv('/datasets/users_behavior.csv')"
   ]
  },
  {
   "cell_type": "code",
   "execution_count": 19,
   "metadata": {},
   "outputs": [
    {
     "name": "stdout",
     "output_type": "stream",
     "text": [
      "<class 'pandas.core.frame.DataFrame'>\n",
      "RangeIndex: 3214 entries, 0 to 3213\n",
      "Data columns (total 5 columns):\n",
      " #   Column    Non-Null Count  Dtype  \n",
      "---  ------    --------------  -----  \n",
      " 0   calls     3214 non-null   float64\n",
      " 1   minutes   3214 non-null   float64\n",
      " 2   messages  3214 non-null   float64\n",
      " 3   mb_used   3214 non-null   float64\n",
      " 4   is_ultra  3214 non-null   int64  \n",
      "dtypes: float64(4), int64(1)\n",
      "memory usage: 125.7 KB\n"
     ]
    }
   ],
   "source": [
    "#Informasi Umum\n",
    "df.info()"
   ]
  },
  {
   "cell_type": "code",
   "execution_count": 20,
   "metadata": {},
   "outputs": [
    {
     "data": {
      "text/plain": [
       "0"
      ]
     },
     "execution_count": 20,
     "metadata": {},
     "output_type": "execute_result"
    }
   ],
   "source": [
    "#Cek nilai duplikat\n",
    "df.duplicated().sum()"
   ]
  },
  {
   "cell_type": "code",
   "execution_count": 21,
   "metadata": {},
   "outputs": [
    {
     "data": {
      "text/plain": [
       "calls       0\n",
       "minutes     0\n",
       "messages    0\n",
       "mb_used     0\n",
       "is_ultra    0\n",
       "dtype: int64"
      ]
     },
     "execution_count": 21,
     "metadata": {},
     "output_type": "execute_result"
    }
   ],
   "source": [
    "#Cek nilai null\n",
    "df.isnull().sum()"
   ]
  },
  {
   "cell_type": "code",
   "execution_count": 22,
   "metadata": {},
   "outputs": [
    {
     "data": {
      "text/html": [
       "<div>\n",
       "<style scoped>\n",
       "    .dataframe tbody tr th:only-of-type {\n",
       "        vertical-align: middle;\n",
       "    }\n",
       "\n",
       "    .dataframe tbody tr th {\n",
       "        vertical-align: top;\n",
       "    }\n",
       "\n",
       "    .dataframe thead th {\n",
       "        text-align: right;\n",
       "    }\n",
       "</style>\n",
       "<table border=\"1\" class=\"dataframe\">\n",
       "  <thead>\n",
       "    <tr style=\"text-align: right;\">\n",
       "      <th></th>\n",
       "      <th>calls</th>\n",
       "      <th>minutes</th>\n",
       "      <th>messages</th>\n",
       "      <th>mb_used</th>\n",
       "      <th>is_ultra</th>\n",
       "    </tr>\n",
       "  </thead>\n",
       "  <tbody>\n",
       "    <tr>\n",
       "      <th>count</th>\n",
       "      <td>3214.000000</td>\n",
       "      <td>3214.000000</td>\n",
       "      <td>3214.000000</td>\n",
       "      <td>3214.000000</td>\n",
       "      <td>3214.000000</td>\n",
       "    </tr>\n",
       "    <tr>\n",
       "      <th>mean</th>\n",
       "      <td>63.038892</td>\n",
       "      <td>438.208787</td>\n",
       "      <td>38.281269</td>\n",
       "      <td>17207.673836</td>\n",
       "      <td>0.306472</td>\n",
       "    </tr>\n",
       "    <tr>\n",
       "      <th>std</th>\n",
       "      <td>33.236368</td>\n",
       "      <td>234.569872</td>\n",
       "      <td>36.148326</td>\n",
       "      <td>7570.968246</td>\n",
       "      <td>0.461100</td>\n",
       "    </tr>\n",
       "    <tr>\n",
       "      <th>min</th>\n",
       "      <td>0.000000</td>\n",
       "      <td>0.000000</td>\n",
       "      <td>0.000000</td>\n",
       "      <td>0.000000</td>\n",
       "      <td>0.000000</td>\n",
       "    </tr>\n",
       "    <tr>\n",
       "      <th>25%</th>\n",
       "      <td>40.000000</td>\n",
       "      <td>274.575000</td>\n",
       "      <td>9.000000</td>\n",
       "      <td>12491.902500</td>\n",
       "      <td>0.000000</td>\n",
       "    </tr>\n",
       "    <tr>\n",
       "      <th>50%</th>\n",
       "      <td>62.000000</td>\n",
       "      <td>430.600000</td>\n",
       "      <td>30.000000</td>\n",
       "      <td>16943.235000</td>\n",
       "      <td>0.000000</td>\n",
       "    </tr>\n",
       "    <tr>\n",
       "      <th>75%</th>\n",
       "      <td>82.000000</td>\n",
       "      <td>571.927500</td>\n",
       "      <td>57.000000</td>\n",
       "      <td>21424.700000</td>\n",
       "      <td>1.000000</td>\n",
       "    </tr>\n",
       "    <tr>\n",
       "      <th>max</th>\n",
       "      <td>244.000000</td>\n",
       "      <td>1632.060000</td>\n",
       "      <td>224.000000</td>\n",
       "      <td>49745.730000</td>\n",
       "      <td>1.000000</td>\n",
       "    </tr>\n",
       "  </tbody>\n",
       "</table>\n",
       "</div>"
      ],
      "text/plain": [
       "             calls      minutes     messages       mb_used     is_ultra\n",
       "count  3214.000000  3214.000000  3214.000000   3214.000000  3214.000000\n",
       "mean     63.038892   438.208787    38.281269  17207.673836     0.306472\n",
       "std      33.236368   234.569872    36.148326   7570.968246     0.461100\n",
       "min       0.000000     0.000000     0.000000      0.000000     0.000000\n",
       "25%      40.000000   274.575000     9.000000  12491.902500     0.000000\n",
       "50%      62.000000   430.600000    30.000000  16943.235000     0.000000\n",
       "75%      82.000000   571.927500    57.000000  21424.700000     1.000000\n",
       "max     244.000000  1632.060000   224.000000  49745.730000     1.000000"
      ]
     },
     "execution_count": 22,
     "metadata": {},
     "output_type": "execute_result"
    }
   ],
   "source": [
    "df.describe()"
   ]
  },
  {
   "cell_type": "code",
   "execution_count": 23,
   "metadata": {},
   "outputs": [
    {
     "data": {
      "text/html": [
       "<div>\n",
       "<style scoped>\n",
       "    .dataframe tbody tr th:only-of-type {\n",
       "        vertical-align: middle;\n",
       "    }\n",
       "\n",
       "    .dataframe tbody tr th {\n",
       "        vertical-align: top;\n",
       "    }\n",
       "\n",
       "    .dataframe thead th {\n",
       "        text-align: right;\n",
       "    }\n",
       "</style>\n",
       "<table border=\"1\" class=\"dataframe\">\n",
       "  <thead>\n",
       "    <tr style=\"text-align: right;\">\n",
       "      <th></th>\n",
       "      <th>calls</th>\n",
       "      <th>minutes</th>\n",
       "      <th>messages</th>\n",
       "      <th>mb_used</th>\n",
       "      <th>is_ultra</th>\n",
       "    </tr>\n",
       "  </thead>\n",
       "  <tbody>\n",
       "    <tr>\n",
       "      <th>0</th>\n",
       "      <td>40.0</td>\n",
       "      <td>311.90</td>\n",
       "      <td>83.0</td>\n",
       "      <td>19915.42</td>\n",
       "      <td>0</td>\n",
       "    </tr>\n",
       "    <tr>\n",
       "      <th>1</th>\n",
       "      <td>85.0</td>\n",
       "      <td>516.75</td>\n",
       "      <td>56.0</td>\n",
       "      <td>22696.96</td>\n",
       "      <td>0</td>\n",
       "    </tr>\n",
       "    <tr>\n",
       "      <th>2</th>\n",
       "      <td>77.0</td>\n",
       "      <td>467.66</td>\n",
       "      <td>86.0</td>\n",
       "      <td>21060.45</td>\n",
       "      <td>0</td>\n",
       "    </tr>\n",
       "    <tr>\n",
       "      <th>3</th>\n",
       "      <td>106.0</td>\n",
       "      <td>745.53</td>\n",
       "      <td>81.0</td>\n",
       "      <td>8437.39</td>\n",
       "      <td>1</td>\n",
       "    </tr>\n",
       "    <tr>\n",
       "      <th>4</th>\n",
       "      <td>66.0</td>\n",
       "      <td>418.74</td>\n",
       "      <td>1.0</td>\n",
       "      <td>14502.75</td>\n",
       "      <td>0</td>\n",
       "    </tr>\n",
       "  </tbody>\n",
       "</table>\n",
       "</div>"
      ],
      "text/plain": [
       "   calls  minutes  messages   mb_used  is_ultra\n",
       "0   40.0   311.90      83.0  19915.42         0\n",
       "1   85.0   516.75      56.0  22696.96         0\n",
       "2   77.0   467.66      86.0  21060.45         0\n",
       "3  106.0   745.53      81.0   8437.39         1\n",
       "4   66.0   418.74       1.0  14502.75         0"
      ]
     },
     "execution_count": 23,
     "metadata": {},
     "output_type": "execute_result"
    }
   ],
   "source": [
    "df.head()"
   ]
  },
  {
   "cell_type": "code",
   "execution_count": 24,
   "metadata": {},
   "outputs": [
    {
     "data": {
      "text/plain": [
       "(3214, 5)"
      ]
     },
     "execution_count": 24,
     "metadata": {},
     "output_type": "execute_result"
    }
   ],
   "source": [
    "df.shape"
   ]
  },
  {
   "cell_type": "markdown",
   "metadata": {},
   "source": [
    "# Kesimpulan Sementara<a id='kesimpulan_sementara1'></a>"
   ]
  },
  {
   "cell_type": "markdown",
   "metadata": {},
   "source": [
    "<div style=\"background-color:rgba(0, 255, 172, 0.07)\"\n",
    "     \n",
    "Dari langkah diatas dan pembacaan data yang diambil dari file '/datasets/users_behavior.csv', diketahui file tersebut berjumlah 5 kolom dan 3214 baris. Tidak ada nilai duplikat maupun nilai null karena pada projek sebelumnya sudah dilakukan preprocessing data. Langkah selanjutnya adalah split data source menjadi 3 bagian yaitu data train, data test, dan data valid guna melakukan modelling.\n",
    "</div>"
   ]
  },
  {
   "cell_type": "markdown",
   "metadata": {},
   "source": [
    "<div class=\"alert alert-success\">\n",
    "<b>Adipta's comment v.1</b> <a class=\"tocSkip\"></a>\n",
    "\n",
    "Bagus, semua berjalan lancar.\n",
    "\n",
    "</div>"
   ]
  },
  {
   "cell_type": "markdown",
   "metadata": {},
   "source": [
    "# Langkah 2 : Split data source menjadi training set, validation set, dan test set <a id='langkah2'></a>"
   ]
  },
  {
   "cell_type": "code",
   "execution_count": 25,
   "metadata": {},
   "outputs": [],
   "source": [
    "#Split data source menjadi training dan testing dengan perbandingan 80 : 20 \n",
    "df_train, df_test = train_test_split(df, test_size=0.20, random_state=12345)"
   ]
  },
  {
   "cell_type": "code",
   "execution_count": 10,
   "metadata": {},
   "outputs": [],
   "source": [
    "#Split data train menjadi training dan validation dengan perbandingan 80 : 20\n",
    "df_train, df_valid = train_test_split(df_train, test_size=0.25, random_state=12345)# 0.25 * 0.80 = 0.20  untuk validasi test"
   ]
  },
  {
   "cell_type": "code",
   "execution_count": 11,
   "metadata": {},
   "outputs": [
    {
     "data": {
      "text/plain": [
       "((1928, 5), (643, 5), (643, 5))"
      ]
     },
     "execution_count": 11,
     "metadata": {},
     "output_type": "execute_result"
    }
   ],
   "source": [
    "#Mengecek ukuran apakah benar sudah 80:20:20 atau 3:1:1\n",
    "df_train.shape, df_test.shape, df_valid.shape"
   ]
  },
  {
   "cell_type": "code",
   "execution_count": 12,
   "metadata": {},
   "outputs": [
    {
     "data": {
      "text/plain": [
       "(59.98755444928438, 20.00622277535781, 20.00622277535781)"
      ]
     },
     "execution_count": 12,
     "metadata": {},
     "output_type": "execute_result"
    }
   ],
   "source": [
    "df_train.shape[0] * 100 / df.shape[0], df_test.shape[0] * 100 / df.shape[0], df_valid.shape[0] * 100 / df.shape[0]"
   ]
  },
  {
   "cell_type": "code",
   "execution_count": 13,
   "metadata": {},
   "outputs": [],
   "source": [
    "#Menentukan Feature(x) dan Target(y)\n",
    "feature_xtrain = df_train.drop(['is_ultra'], axis=1)\n",
    "target_ytrain = df_train['is_ultra']\n",
    "\n",
    "feature_xtest = df_test.drop(['is_ultra'], axis=1)\n",
    "target_ytest = df_test['is_ultra']\n",
    "\n",
    "feature_xvalid = df_valid.drop(['is_ultra'], axis=1)\n",
    "target_yvalid = df_valid['is_ultra']"
   ]
  },
  {
   "cell_type": "code",
   "execution_count": 14,
   "metadata": {},
   "outputs": [
    {
     "name": "stdout",
     "output_type": "stream",
     "text": [
      "(1928, 4)\n",
      "(1928,)\n",
      "(643, 4)\n",
      "(643,)\n",
      "(643, 4)\n",
      "(643,)\n"
     ]
    }
   ],
   "source": [
    "for ukuran in [feature_xtrain, target_ytrain, feature_xtest, target_ytest, feature_xvalid, target_yvalid]:\n",
    "    print(ukuran.shape)"
   ]
  },
  {
   "cell_type": "markdown",
   "metadata": {},
   "source": [
    "# Kesimpulan Sementara<a id='kesimpulan_sementara2'></a>"
   ]
  },
  {
   "cell_type": "markdown",
   "metadata": {},
   "source": [
    "<div style=\"background-color:rgba(0, 255, 172, 0.07)\"\n",
    "     \n",
    "Data source telah di split menjadi 3 bagian yaitu df_train, df_test, dan df_valid dengan masing\" proporsi 3:1:1 atau 60%:20%:20%. Selain itu mementukan prediksi target yaitu \"is_ultra\", dimana 1 adalah is_ultra dan 0 berarti bukan \"is_ultra\" melainkan paket \"smart\". Juga menentukan fitur pada tiga dataset tersebut.\n",
    "\n",
    "</div>"
   ]
  },
  {
   "cell_type": "markdown",
   "metadata": {},
   "source": [
    "<div class=\"alert alert-success\">\n",
    "<b>Adipta's comment v.1</b> <a class=\"tocSkip\"></a>\n",
    "\n",
    "Bagus, semua berjalan lancar.\n",
    "\n",
    "</div>"
   ]
  },
  {
   "cell_type": "markdown",
   "metadata": {},
   "source": [
    "# Langkah 3 : Periksa kualitas model yang berbeda <a id='langkah3'></a>"
   ]
  },
  {
   "cell_type": "code",
   "execution_count": 18,
   "metadata": {},
   "outputs": [],
   "source": [
    "#Pengembangan Model\n",
    "#Di bagian ini kita akan mengembangkan beberapa model. Karena projek ini adalah klasifikasi, makan kita akan mengembangkan model dengan decision tree classifier, random forest, dan logistic regression."
   ]
  },
  {
   "cell_type": "markdown",
   "metadata": {},
   "source": [
    "# Decision Tree Classifier"
   ]
  },
  {
   "cell_type": "code",
   "execution_count": 19,
   "metadata": {
    "scrolled": false
   },
   "outputs": [
    {
     "name": "stdout",
     "output_type": "stream",
     "text": [
      "max_depth = 1 : \n",
      "training_set_acc= 0.758\n",
      "valid_set_acc= 0.739\n",
      "\n",
      "max_depth = 2 : \n",
      "training_set_acc= 0.792\n",
      "valid_set_acc= 0.757\n",
      "\n",
      "max_depth = 3 : \n",
      "training_set_acc= 0.812\n",
      "valid_set_acc= 0.765\n",
      "\n",
      "max_depth = 4 : \n",
      "training_set_acc= 0.821\n",
      "valid_set_acc= 0.764\n",
      "\n",
      "max_depth = 5 : \n",
      "training_set_acc= 0.827\n",
      "valid_set_acc= 0.759\n",
      "\n",
      "max_depth = 6 : \n",
      "training_set_acc= 0.834\n",
      "valid_set_acc= 0.757\n",
      "\n",
      "max_depth = 7 : \n",
      "training_set_acc= 0.851\n",
      "valid_set_acc= 0.774\n",
      "\n",
      "max_depth = 8 : \n",
      "training_set_acc= 0.866\n",
      "valid_set_acc= 0.767\n",
      "\n",
      "max_depth = 9 : \n",
      "training_set_acc= 0.875\n",
      "valid_set_acc= 0.762\n",
      "\n",
      "max_depth = 10 : \n",
      "training_set_acc= 0.891\n",
      "valid_set_acc= 0.771\n",
      "\n"
     ]
    },
    {
     "data": {
      "image/png": "[encoded data removed]",
      "text/plain": [
       "<Figure size 720x432 with 1 Axes>"
      ]
     },
     "metadata": {
      "needs_background": "light"
     },
     "output_type": "display_data"
    }
   ],
   "source": [
    "#Decision Tree Classifier\n",
    "\n",
    "#list untuk skor plot\n",
    "train_scores = []\n",
    "valid_scores = []\n",
    "\n",
    "for depth in range(1, 11):\n",
    "    model = DecisionTreeClassifier(random_state = 12345, max_depth=depth)\n",
    "    model.fit(feature_xtrain, target_ytrain)\n",
    "    #Membuat accuracy_score di datasate train\n",
    "    prediction_train = model.predict(feature_xtrain)\n",
    "    acc_train = accuracy_score(target_ytrain, prediction_train)\n",
    "    train_scores.append(acc_train)\n",
    "    #Membuat accuracy_score di dataset valid\n",
    "    prediction_valid = model.predict(feature_xvalid)\n",
    "    acc_valid = accuracy_score(target_yvalid, prediction_valid)\n",
    "    valid_scores.append(acc_valid)\n",
    "    print('max_depth =', depth, ': ')\n",
    "    print('training_set_acc= {:.3f}'.format(acc_train))\n",
    "    print('valid_set_acc= {:.3f}'.format(acc_valid))\n",
    "    print()\n",
    "#Membuat plot untuk membandingkan dataset overfitting / underfitting\n",
    "depth = [i for i in range(1, 11)]\n",
    "plt.figure(figsize=(10,6))\n",
    "plt.plot(depth, train_scores, '-*', label='Train Dataset')\n",
    "plt.plot(depth, valid_scores, '-o', label='Validation Dataset')\n",
    "plt.title('Plot  train and validation | scores vs tree depth')\n",
    "plt.xlabel('Max depth')\n",
    "plt.ylabel('Accuracy')\n",
    "plt.legend()\n",
    "plt.show()"
   ]
  },
  {
   "cell_type": "markdown",
   "metadata": {},
   "source": [
    "<div class=\"alert alert-success\">\n",
    "<b>Adipta's comment v.1</b> <a class=\"tocSkip\"></a>\n",
    "\n",
    "Bagus, semua berjalan lancar.\n",
    "\n",
    "</div>"
   ]
  },
  {
   "cell_type": "markdown",
   "metadata": {},
   "source": [
    "# Random Forest Classifier"
   ]
  },
  {
   "cell_type": "code",
   "execution_count": 21,
   "metadata": {},
   "outputs": [
    {
     "name": "stdout",
     "output_type": "stream",
     "text": [
      "n_estimator = 1 : \n",
      "training_set_acc= 0.902\n",
      "valid_set_acc= 0.703\n",
      "\n",
      "n_estimator = 2 : \n",
      "training_set_acc= 0.910\n",
      "valid_set_acc= 0.757\n",
      "\n",
      "n_estimator = 3 : \n",
      "training_set_acc= 0.959\n",
      "valid_set_acc= 0.745\n",
      "\n",
      "n_estimator = 4 : \n",
      "training_set_acc= 0.948\n",
      "valid_set_acc= 0.765\n",
      "\n",
      "n_estimator = 5 : \n",
      "training_set_acc= 0.971\n",
      "valid_set_acc= 0.762\n",
      "\n",
      "n_estimator = 6 : \n",
      "training_set_acc= 0.965\n",
      "valid_set_acc= 0.770\n",
      "\n",
      "n_estimator = 7 : \n",
      "training_set_acc= 0.979\n",
      "valid_set_acc= 0.771\n",
      "\n",
      "n_estimator = 8 : \n",
      "training_set_acc= 0.972\n",
      "valid_set_acc= 0.787\n",
      "\n",
      "n_estimator = 9 : \n",
      "training_set_acc= 0.982\n",
      "valid_set_acc= 0.784\n",
      "\n",
      "n_estimator = 10 : \n",
      "training_set_acc= 0.980\n",
      "valid_set_acc= 0.788\n",
      "\n"
     ]
    },
    {
     "data": {
      "image/png": "[encoded data removed]",
      "text/plain": [
       "<Figure size 720x432 with 1 Axes>"
      ]
     },
     "metadata": {
      "needs_background": "light"
     },
     "output_type": "display_data"
    },
    {
     "name": "stdout",
     "output_type": "stream",
     "text": [
      "Accuracy model terbaik pada validation set (n_estimators = 10): 0.7884914463452566\n"
     ]
    }
   ],
   "source": [
    "#Random Forest Classifier\n",
    "\n",
    "#list untuk skor plot\n",
    "train_scores = []\n",
    "valid_scores = []\n",
    "\n",
    "#List untuk mencari skor valid terbaik\n",
    "best_valid_scores = 0\n",
    "best_est = 0\n",
    "\n",
    "for est in range(1, 11):\n",
    "    model = RandomForestClassifier(random_state = 12345, n_estimators=est)\n",
    "    model.fit(feature_xtrain, target_ytrain)\n",
    "    #Membuat score di datasate train\n",
    "    #prediction_train = model.predict(feature_xtrain)\n",
    "    #acc_train = accuracy_score(target_ytrain, prediction_train)\n",
    "    acc_train = model.score(feature_xtrain, target_ytrain)\n",
    "    train_scores.append(acc_train)\n",
    "    #Membuat score di dataset valid\n",
    "    #prediction_valid = model.predict(feature_xvalid)\n",
    "    #acc_valid = accuracy_score(target_yvalid, prediction_valid)\n",
    "    acc_valid = model.score(feature_xvalid, target_yvalid)\n",
    "    valid_scores.append(acc_valid)\n",
    "    #Mencari best valid score\n",
    "    if acc_valid > best_valid_scores:\n",
    "        best_valid_score = acc_valid\n",
    "        best_est = est\n",
    "    print('n_estimator =', est, ': ')\n",
    "    print('training_set_acc= {:.3f}'.format(acc_train))\n",
    "    print('valid_set_acc= {:.3f}'.format(acc_valid))\n",
    "    print()\n",
    "#Membuat plot untuk membandingkan dataset overfitting / underfitting\n",
    "est = [i for i in range(1, 11)]\n",
    "plt.figure(figsize=(10,6))\n",
    "plt.plot(est, train_scores, '-*', label='Train Dataset')\n",
    "plt.plot(est, valid_scores, '-o', label='Validation Dataset')\n",
    "plt.title('Plot  train and validation | scores vs n_estimator')\n",
    "plt.xlabel('n_estimator')\n",
    "plt.ylabel('Accuracy')\n",
    "plt.legend()\n",
    "plt.show()\n",
    "\n",
    "print(\"Accuracy model terbaik pada validation set (n_estimators = {}): {}\".format(best_est, best_valid_score))"
   ]
  },
  {
   "cell_type": "markdown",
   "metadata": {},
   "source": [
    "<div class=\"alert alert-success\">\n",
    "<b>Adipta's comment v.1</b> <a class=\"tocSkip\"></a>\n",
    "\n",
    "Bagus, semua berjalan lancar.\n",
    "\n",
    "</div>"
   ]
  },
  {
   "cell_type": "markdown",
   "metadata": {},
   "source": [
    "# Logistic Regression"
   ]
  },
  {
   "cell_type": "code",
   "execution_count": 23,
   "metadata": {},
   "outputs": [
    {
     "name": "stdout",
     "output_type": "stream",
     "text": [
      "Accuracy model regresi logistik berdasarkan training set: 0.7422199170124482\n",
      "Accuracy model regresi logistik berdasarkan validation set: 0.7293934681181959\n"
     ]
    }
   ],
   "source": [
    "#Regresi logistik\n",
    "\n",
    "model = LogisticRegression(random_state=12345, solver='liblinear')\n",
    "model.fit(feature_xtrain, target_ytrain)\n",
    "score_train = model.score(feature_xtrain, target_ytrain)\n",
    "score_valid = model.score(feature_xvalid, target_yvalid)\n",
    "\n",
    "print(\"Accuracy model regresi logistik berdasarkan training set:\", score_train)\n",
    "print(\"Accuracy model regresi logistik berdasarkan validation set:\", score_valid)\n"
   ]
  },
  {
   "cell_type": "markdown",
   "metadata": {},
   "source": [
    "<div style=\"background-color:rgba(0, 255, 172, 0.07)\"\n",
    "     \n",
    "Berikut beberapa informasi yang didapat dari 3 pengembangan model diatas :\n",
    "\n",
    "*Decision Tree Classifier\n",
    "- Ditentukan random_state = 12345\n",
    "- Melakukan 10 iterasi (max_depth) untuk membandingkan kualitas model train dan model valid\n",
    "- Paling tinggi score_accuracy ada di depth 7 dengan nilai 0.774 untuk data valid, diatas sedikit ambang batas projek ini untuk tingkat accuracy-nya adalah 0.75\n",
    "- Dari plot bisa dilihat semakin tinggi max_depth, score_accuracy data train semakin tinggi. Namun tidak dengan data valid, score_accuracy-nya selalu sekitar 0.7\n",
    "- Hal ini berarti akan terjadi overfitting dengan melakukan model decission tree classifier\n",
    "\n",
    "*Random Forest Classifier\n",
    "- Ditentukan random_state = 12345\n",
    "- Melakukan 10 iterasi (n_estimators) untuk membandingkan kualitas model train dan model valid\n",
    "- Paling tinggi score ada di n_estimators = 10 dengan score 0.788\n",
    "- Dari plot bisa dilihat score data train selalu di sekitar 0.9 dan data valid selalu di sekitar 0.7\n",
    "- Hal ini berarti random forrest classifier lebik baik dari decission tree classifier\n",
    "\n",
    "*Logistic Regression\n",
    "- Ditentukan random_state = 12345 dan solver='liblinear'\n",
    "- Score model regresi logistik berdasarkan data train adalah 0.74 dan data valid adalah 0.72\n",
    "- Score model logistic regression dibawah ambang batas projek ini yang 0.75.\n",
    "- Hal ini berarti random forrest classifier lebik baik dari decission tree classifier dan logistic regression\n",
    "\n",
    "     Langkah selanjutnya adalah memeriksa kualitas model dengan menggunakan test set.\n",
    "</div>"
   ]
  },
  {
   "cell_type": "markdown",
   "metadata": {},
   "source": [
    "<div class=\"alert alert-success\">\n",
    "<b>Adipta's comment v.1</b> <a class=\"tocSkip\"></a>\n",
    "\n",
    "Bagus, semua berjalan lancar.\n",
    "\n",
    "</div>"
   ]
  },
  {
   "cell_type": "markdown",
   "metadata": {},
   "source": [
    "# Langkah 4 : Periksa kualitas model dengan menggunakan test set <a id='langkah4'></a>"
   ]
  },
  {
   "cell_type": "code",
   "execution_count": 41,
   "metadata": {},
   "outputs": [],
   "source": [
    "#Dari pengembangan model sebelumnya, random forest classifier adalah yang paling akurat. Dengan  model ini sebagai model final, kita melakukan prediksi dengan menggunakan data test."
   ]
  },
  {
   "cell_type": "code",
   "execution_count": 26,
   "metadata": {},
   "outputs": [
    {
     "name": "stdout",
     "output_type": "stream",
     "text": [
      "valid_set_acc= 0.788\n",
      "test_set_acc= 0.787\n"
     ]
    }
   ],
   "source": [
    "#Check Model Quality dengan test dataset\n",
    "model = RandomForestClassifier(random_state = 12345, n_estimators=10)\n",
    "model.fit(feature_xtrain, target_ytrain)\n",
    "acc_train = model.score(feature_xtrain, target_ytrain)\n",
    "acc_valid = model.score(feature_xvalid, target_yvalid)\n",
    "acc_test = model.score(feature_xtest, target_ytest)\n",
    "print('valid_set_acc= {:.3f}'.format(acc_valid))\n",
    "print('test_set_acc= {:.3f}'.format(acc_test))"
   ]
  },
  {
   "cell_type": "markdown",
   "metadata": {},
   "source": [
    "<div style=\"background-color:rgba(0, 255, 172, 0.07)\"\n",
    "     \n",
    "Score data test tidak jauh berbeda dengan score data valid\n",
    "\n",
    "</div>"
   ]
  },
  {
   "cell_type": "markdown",
   "metadata": {},
   "source": [
    "<div class=\"alert alert-success\">\n",
    "<b>Adipta's comment v.1</b> <a class=\"tocSkip\"></a>\n",
    "\n",
    "Bagus, semua berjalan lancar.\n",
    "\n",
    "</div>"
   ]
  },
  {
   "cell_type": "markdown",
   "metadata": {},
   "source": [
    "# Langkah 5 : Sanity Check terhadap model <a id='langkah5'></a>"
   ]
  },
  {
   "cell_type": "code",
   "execution_count": 35,
   "metadata": {},
   "outputs": [
    {
     "name": "stdout",
     "output_type": "stream",
     "text": [
      "              precision    recall  f1-score   support\n",
      "\n",
      "           0       0.82      0.91      0.86       443\n",
      "           1       0.72      0.55      0.63       200\n",
      "\n",
      "    accuracy                           0.79       643\n",
      "   macro avg       0.77      0.73      0.74       643\n",
      "weighted avg       0.79      0.79      0.79       643\n",
      "\n"
     ]
    }
   ],
   "source": [
    "#Sanity check the model\n",
    "model = RandomForestClassifier(random_state = 12345)\n",
    "model.fit(feature_xtrain, target_ytrain)\n",
    "prediction_valid = model.predict(feature_xvalid)\n",
    "\n",
    "print(classification_report(target_yvalid, prediction_valid))"
   ]
  },
  {
   "cell_type": "markdown",
   "metadata": {},
   "source": [
    "<div style=\"background-color:rgba(0, 255, 172, 0.07)\"\n",
    "     \n",
    "- Semakin kecil False Positive (FP), membuat precision semakin besar. Sedangkan untuk recall, semakin kecil False Negative (FN) membuat recall semakin besar\n",
    "- Terjadi trade off antara precision recall dimana ketika Recall sangat tinggi maka Precision akan sangat rendah, begitu juga sebaliknya\n",
    "- Hal diatas bisa dilihat precision 0.7, sedangkan recall 0.5\n",
    "\n",
    "</div>"
   ]
  },
  {
   "cell_type": "markdown",
   "metadata": {},
   "source": [
    "<div class=\"alert alert-success\">\n",
    "<b>Adipta's comment v.1</b> <a class=\"tocSkip\"></a>\n",
    "\n",
    "Bagus, semua berjalan lancar.\n",
    "\n",
    "</div>"
   ]
  },
  {
   "cell_type": "markdown",
   "metadata": {},
   "source": [
    "# Kesimpulan Umum <a id='kesimpulan_umum'></a>"
   ]
  },
  {
   "cell_type": "markdown",
   "metadata": {},
   "source": [
    "<div style=\"background-color:rgba(0, 255, 172, 0.07)\"\n",
    "     \n",
    "- Dari langkah diatas dan pembacaan data yang diambil dari file '/datasets/users_behavior.csv', diketahui file tersebut berjumlah 5 kolom dan 3214 baris\n",
    "- Data source telah di split menjadi 3 bagian yaitu df_train, df_test, dan df_valid dengan masing\" proporsi 3:1:1 atau 60%:20%:20%\n",
    "- Model Random forrest classifier lebik baik daripada decission tree classifier dan logistic regression untuk projek ini dengan skor 0.788\n",
    "- Score data test tidak jauh berbeda dengan score data valid\n",
    "- Ambang batas untuk tingkat akurasi pada projek ini adalah 0.75. Dengan model final kita mendapatkan score 0.788 artinya dengan model ini kita benar 78% untuk prediksi paket yang tepat untuk pelanggan\n",
    "\n",
    "</div>"
   ]
  },
  {
   "cell_type": "markdown",
   "metadata": {},
   "source": [
    "<div class=\"alert alert-block alert-success\">\n",
    "\n",
    "# General comments #1\n",
    "<b>Reviewer's comment</b> <a class=\"tocSkip\"></a> \n",
    "\n",
    "Good Job Mufti! Sebagian besar kamu telah menyelesaikan project ini dengan baik dan tanpa revisi ya!\n",
    "    \n",
    "\n",
    "</div>"
   ]
  },
  {
   "cell_type": "code",
   "execution_count": null,
   "metadata": {},
   "outputs": [],
   "source": []
  }
 ],
 "metadata": {
  "kernelspec": {
   "display_name": "Python 3 (ipykernel)",
   "language": "python",
   "name": "python3"
  },
  "language_info": {
   "codemirror_mode": {
    "name": "ipython",
    "version": 3
   },
   "file_extension": ".py",
   "mimetype": "text/x-python",
   "name": "python",
   "nbconvert_exporter": "python",
   "pygments_lexer": "ipython3",
   "version": "3.9.5"
  },
  "toc": {
   "base_numbering": 1,
   "nav_menu": {},
   "number_sections": true,
   "sideBar": true,
   "skip_h1_title": true,
   "title_cell": "Table of Contents",
   "title_sidebar": "Contents",
   "toc_cell": false,
   "toc_position": {},
   "toc_section_display": true,
   "toc_window_display": false
  }
 },
 "nbformat": 4,
 "nbformat_minor": 2
}
